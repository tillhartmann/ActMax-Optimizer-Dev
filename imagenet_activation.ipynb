{
 "cells": [
  {
   "cell_type": "code",
   "execution_count": 9,
   "metadata": {},
   "outputs": [
    {
     "name": "stdout",
     "output_type": "stream",
     "text": [
      "True\n"
     ]
    }
   ],
   "source": [
    "import os\n",
    "if 'HOSTNAME' not in os.environ:\n",
    "    os.environ['HOSTNAME'] = 'ODIN' # or 'ODIN'ArithmeticError\n",
    "\n",
    "import numpy as np\n",
    "from tqdm import tqdm\n",
    "import matplotlib.pyplot as plt\n",
    "\n",
    "import torch\n",
    "import torchvision\n",
    "import torchvision.transforms as transforms\n",
    "\n",
    "from core.CNN_scorers import TorchScorer"
   ]
  },
  {
   "cell_type": "code",
   "execution_count": 10,
   "metadata": {},
   "outputs": [
    {
     "name": "stderr",
     "output_type": "stream",
     "text": [
      "/home/till/miniconda3/envs/heatmap/lib/python3.9/site-packages/torchvision/models/_utils.py:208: UserWarning: The parameter 'pretrained' is deprecated since 0.13 and will be removed in 0.15, please use 'weights' instead.\n",
      "  warnings.warn(\n",
      "/home/till/miniconda3/envs/heatmap/lib/python3.9/site-packages/torchvision/models/_utils.py:223: UserWarning: Arguments other than a weight enum or `None` for 'weights' are deprecated since 0.13 and will be removed in 0.15. The current behavior is equivalent to passing `weights=ViT_B_32_Weights.IMAGENET1K_V1`. You can also use `weights=ViT_B_32_Weights.DEFAULT` to get the most up-to-date weights.\n",
      "  warnings.warn(msg)\n"
     ]
    }
   ],
   "source": [
    "tmpsavedir = \"\" # Temporary save directory\n",
    "\n",
    "device = 'cuda' if torch.cuda.is_available() else 'cpu'\n",
    "\n",
    "# load model\n",
    "network = 'vit_b_32'\n",
    "layer = '.heads.Linearhead'\n",
    "unit_idx = [373, 0, 0]\n",
    "\n",
    "model_unit = (network, layer, unit_idx[0], unit_idx[1], unit_idx[2])\n",
    "\n",
    "model = TorchScorer(network, device=device)\n",
    "model.select_unit(model_unit)\n",
    "\n",
    "explabel = f'activation_{network}_{layer}_{unit_idx[0]}-{unit_idx[1]}-{unit_idx[2]}'\n"
   ]
  },
  {
   "cell_type": "code",
   "execution_count": 11,
   "metadata": {},
   "outputs": [],
   "source": [
    "batch_size = 256\n",
    "\n",
    "train_path = '/data/imagenet-2012/imagenet12/images/train' # path on odin\n",
    "transform = transforms.Compose(\n",
    "    [transforms.Resize((224, 224)), \n",
    "    transforms.ToTensor(), \n",
    "    transforms.Normalize((0.485, 0.456, 0.406), (0.229, 0.224, 0.225))]\n",
    ")\n",
    "imagenet_data = torchvision.datasets.ImageFolder(train_path, transform=transform)\n",
    "data_loader = torch.utils.data.DataLoader(\n",
    "    imagenet_data,\n",
    "    batch_size=batch_size,\n",
    "    shuffle=False,\n",
    "    num_workers=12\n",
    ")"
   ]
  },
  {
   "cell_type": "code",
   "execution_count": 12,
   "metadata": {},
   "outputs": [
    {
     "name": "stderr",
     "output_type": "stream",
     "text": [
      "  1%|▏         | 66/4809 [00:30<29:12,  2.71it/s] "
     ]
    }
   ],
   "source": [
    "scores = np.zeros((len(imagenet_data),2))\n",
    "\n",
    "idx = 0\n",
    "for img_batch, i in tqdm(data_loader, total=len(data_loader)): \n",
    "    \n",
    "    with torch.no_grad():\n",
    "        model.model(img_batch.to(model.device))\n",
    "    s = model.activation[\"score\"].squeeze().cpu().numpy().squeeze()\n",
    "    \n",
    "    scores[idx*batch_size:idx*batch_size+len(i),0] = s\n",
    "    scores[idx*batch_size:idx*batch_size+len(i),1] = i\n",
    "    idx += 1\n",
    "\n",
    "np.savez(f\"{explabel}.npz\",scores=scores[:,0], labels=scores[:,1])"
   ]
  },
  {
   "cell_type": "code",
   "execution_count": null,
   "metadata": {},
   "outputs": [],
   "source": [
    "plt.scatter(scores[:,0], scores[:,1], alpha=0.1)\n",
    "plt.gca().set_ylabel('ImageNet class')\n",
    "plt.gca().set_xlabel('activity')"
   ]
  },
  {
   "cell_type": "code",
   "execution_count": null,
   "metadata": {},
   "outputs": [],
   "source": [
    "maxmedian = np.zeros((1000,2))\n",
    "\n",
    "for i in range(1000):\n",
    "    x = scores[scores[:,1]==i,0]\n",
    "    maxmedian[i,0] = np.max(x)\n",
    "    maxmedian[i,1] = np.median(x)\n",
    "    \n",
    "plt.plot(maxmedian, label=['max', 'median'])\n",
    "plt.legend()\n",
    "plt.gca().set_xlabel('ImageNet class')\n",
    "plt.gca().set_ylabel('activity')\n",
    "np.argmax(maxmedian,axis=0)"
   ]
  }
 ],
 "metadata": {
  "kernelspec": {
   "display_name": "Python 3.9.12 ('heatmap')",
   "language": "python",
   "name": "python3"
  },
  "language_info": {
   "codemirror_mode": {
    "name": "ipython",
    "version": 3
   },
   "file_extension": ".py",
   "mimetype": "text/x-python",
   "name": "python",
   "nbconvert_exporter": "python",
   "pygments_lexer": "ipython3",
   "version": "3.9.12"
  },
  "orig_nbformat": 4,
  "vscode": {
   "interpreter": {
    "hash": "e534098f0ce286c80fa6dd92622534b6a24a45a9e055a3c1978fdb26fbffc361"
   }
  }
 },
 "nbformat": 4,
 "nbformat_minor": 2
}
