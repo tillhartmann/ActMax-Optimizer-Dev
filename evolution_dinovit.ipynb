{
 "cells": [
  {
   "cell_type": "code",
   "execution_count": 1,
   "metadata": {},
   "outputs": [],
   "source": [
    "import numpy as np\n",
    "from time import time\n",
    "from tqdm import tqdm\n",
    "\n",
    "import os\n",
    "if 'HOSTNAME' not in os.environ:\n",
    "    os.environ['HOSTNAME'] = 'ODIN' # or 'ODIN'ArithmeticError\n",
    "os.makedirs('output', exist_ok=True) # check that output dir is there\n",
    "\n",
    "from core.insilico_exps import ExperimentEvolution\n",
    "from core.GAN_utils import upconvGAN\n",
    "from core.CNN_scorers import TorchScorer\n",
    "from core.Optimizers import Genetic, CholeskyCMAES\n",
    "\n",
    "import torch\n",
    "from torchvision import transforms as pth_transforms\n",
    "\n",
    "\n",
    "image_size = (224,224)\n",
    "\n",
    "arch = 'vit_base'\n",
    "patch_size = 16"
   ]
  },
  {
   "cell_type": "code",
   "execution_count": 2,
   "metadata": {},
   "outputs": [],
   "source": [
    "# import dino_vit as vits\n",
    "\n",
    "\n",
    "# device = torch.device(\"cuda\") if torch.cuda.is_available() else torch.device(\"cpu\")\n",
    "# device = 'cpu'\n",
    "#     # build model\n",
    "# import dino_vit as vits\n",
    "# model = vits.__dict__[arch](patch_size=patch_size, num_classes=0)\n",
    "# for p in model.parameters():\n",
    "#     p.requires_grad = False\n",
    "# model.eval()\n",
    "# model.to(device)\n",
    "\n",
    "\n",
    "# if arch == \"vit_small\" and patch_size == 16:\n",
    "#     url = \"dino_deitsmall16_pretrain/dino_deitsmall16_pretrain.pth\"\n",
    "# elif arch == \"vit_small\" and patch_size == 8:\n",
    "#     url = \"dino_deitsmall8_300ep_pretrain/dino_deitsmall8_300ep_pretrain.pth\"  # model used for visualizations in our paper\n",
    "# elif arch == \"vit_base\" and patch_size == 16:\n",
    "#     url = \"dino_vitbase16_pretrain/dino_vitbase16_pretrain.pth\"\n",
    "# elif arch == \"vit_base\" and patch_size == 8:\n",
    "#     url = \"dino_vitbase8_pretrain/dino_vitbase8_pretrain.pth\"\n",
    "# if url is not None:\n",
    "#     print(\"Since no pretrained weights have been provided, we load the reference pretrained DINO weights.\")\n",
    "#     state_dict = torch.hub.load_state_dict_from_url(url=\"https://dl.fbaipublicfiles.com/dino/\" + url)\n",
    "#     model.load_state_dict(state_dict, strict=True)\n",
    "# else:\n",
    "#     print(\"There is no reference weights available for this model => We use random weights.\")"
   ]
  },
  {
   "cell_type": "code",
   "execution_count": 3,
   "metadata": {},
   "outputs": [],
   "source": [
    "transform = pth_transforms.Compose([\n",
    "    pth_transforms.Resize(image_size),\n",
    "    pth_transforms.ToTensor(),\n",
    "    pth_transforms.Normalize((0.485, 0.456, 0.406), (0.229, 0.224, 0.225)),\n",
    "])"
   ]
  },
  {
   "cell_type": "code",
   "execution_count": 7,
   "metadata": {},
   "outputs": [
    {
     "name": "stdout",
     "output_type": "stream",
     "text": [
      "Space dimension: 4096, Population size: 40, Select size:20, Optimization Parameters:\n",
      "Initial sigma: 2.000\n",
      "cc=0.001, cs=0.050, c1=0.000 damps=1.050\n",
      "Since no pretrained weights have been provided, we load the reference pretrained DINO weights.\n"
     ]
    }
   ],
   "source": [
    "tmpsavedir = 'output' # Temporary save directory\n",
    "device = 'cpu'\n",
    "# load optimizer\n",
    "optim = CholeskyCMAES(4096, population_size=40, init_sigma=2.0, Aupdate_freq=10, init_code=np.zeros([1, 4096]))\n",
    "# un-comment to use our new one! \n",
    "explabel = \"dino_vit\"\n",
    "model_unit =  ('dino:' + arch + ':' + str(patch_size), '.blocks.0.attn.Dropoutattn_drop', 0, 0, 0)\n",
    "Exp = ExperimentEvolution(model_unit, savedir=tmpsavedir, explabel=explabel, optimizer=optim, max_step=500, imgsize=image_size, device=device)\n"
   ]
  },
  {
   "cell_type": "code",
   "execution_count": 8,
   "metadata": {},
   "outputs": [
    {
     "name": "stdout",
     "output_type": "stream",
     "text": [
      "synth img scores: mean 0.129 +- std 0.000\n",
      "step 0  time: total 0.46s | GAN visualize 0.20s   CNN score 0.12s   optimizer step 0.15s\n",
      "sigma: 1.94\n",
      "synth img scores: mean 0.209 +- std 0.029\n",
      "step 1  time: total 3.74s | GAN visualize 0.10s   CNN score 3.58s   optimizer step 0.06s\n",
      "sigma: 1.88\n",
      "synth img scores: mean 0.253 +- std 0.040\n",
      "step 2  time: total 3.48s | GAN visualize 0.07s   CNN score 3.34s   optimizer step 0.07s\n",
      "sigma: 1.84\n",
      "synth img scores: mean 0.318 +- std 0.043\n",
      "step 3  time: total 2.97s | GAN visualize 0.07s   CNN score 2.83s   optimizer step 0.07s\n",
      "sigma: 1.81\n",
      "synth img scores: mean 0.352 +- std 0.051\n",
      "step 4  time: total 2.89s | GAN visualize 0.11s   CNN score 2.71s   optimizer step 0.07s\n",
      "sigma: 1.78\n",
      "synth img scores: mean 0.428 +- std 0.075\n",
      "step 5  time: total 3.34s | GAN visualize 0.07s   CNN score 3.19s   optimizer step 0.08s\n",
      "sigma: 1.75\n",
      "synth img scores: mean 0.523 +- std 0.076\n",
      "step 6  time: total 2.92s | GAN visualize 0.08s   CNN score 2.76s   optimizer step 0.08s\n",
      "sigma: 1.73\n",
      "synth img scores: mean 0.605 +- std 0.051\n",
      "step 7  time: total 2.98s | GAN visualize 0.08s   CNN score 2.83s   optimizer step 0.07s\n",
      "sigma: 1.71\n",
      "synth img scores: mean 0.629 +- std 0.062\n",
      "step 8  time: total 4.23s | GAN visualize 0.11s   CNN score 4.06s   optimizer step 0.07s\n",
      "sigma: 1.69\n",
      "synth img scores: mean 0.661 +- std 0.058\n",
      "step 9  time: total 4.21s | GAN visualize 0.06s   CNN score 4.08s   optimizer step 0.07s\n",
      "sigma: 1.68\n",
      "synth img scores: mean 0.711 +- std 0.044\n",
      "step 10  time: total 3.25s | GAN visualize 0.05s   CNN score 3.12s   optimizer step 0.07s\n",
      "sigma: 1.66\n",
      "A, Ainv update! Time cost: 0.55 s\n",
      "synth img scores: mean 0.747 +- std 0.048\n",
      "step 11  time: total 3.74s | GAN visualize 0.09s   CNN score 3.04s   optimizer step 0.61s\n"
     ]
    }
   ],
   "source": [
    "# run evolutions\n",
    "t1 = time()\n",
    "Exp.run(optim.get_init_pop())\n",
    "t2 = time()\n",
    "print(t2 - t1, \"sec\")  \n",
    "Exp.visualize_best()\n",
    "Exp.visualize_trajectory()\n",
    "Exp.save_last_gen()"
   ]
  }
 ],
 "metadata": {
  "kernelspec": {
   "display_name": "Python 3.9.12 ('heatmap')",
   "language": "python",
   "name": "python3"
  },
  "language_info": {
   "codemirror_mode": {
    "name": "ipython",
    "version": 3
   },
   "file_extension": ".py",
   "mimetype": "text/x-python",
   "name": "python",
   "nbconvert_exporter": "python",
   "pygments_lexer": "ipython3",
   "version": "3.9.12"
  },
  "orig_nbformat": 4,
  "vscode": {
   "interpreter": {
    "hash": "e534098f0ce286c80fa6dd92622534b6a24a45a9e055a3c1978fdb26fbffc361"
   }
  }
 },
 "nbformat": 4,
 "nbformat_minor": 2
}
