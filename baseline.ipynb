{
 "cells": [
  {
   "cell_type": "code",
   "execution_count": 2,
   "metadata": {},
   "outputs": [],
   "source": [
    "import os\n",
    "if 'HOSTNAME' not in os.environ:\n",
    "    os.environ['HOSTNAME'] = 'JORDAN' # or 'ODIN'ArithmeticError\n",
    "from core.GAN_utils import upconvGAN\n",
    "from core.CNN_scorers import TorchScorer\n",
    "from core.Optimizers import Genetic"
   ]
  },
  {
   "cell_type": "code",
   "execution_count": 3,
   "metadata": {},
   "outputs": [],
   "source": [
    "population_size = 40\n",
    "mutation_rate = 0.25\n",
    "mutation_size = 0.75\n",
    "kT_multiplier = 2\n",
    "n_conserve = 10\n",
    "parental_skew = 0.75\n",
    "optimizer = Genetic(4096, population_size, mutation_rate, mutation_size, kT_multiplier,\n",
    "                    parental_skew=parental_skew, n_conserve=n_conserve)"
   ]
  },
  {
   "cell_type": "code",
   "execution_count": 4,
   "metadata": {},
   "outputs": [
    {
     "name": "stderr",
     "output_type": "stream",
     "text": [
      "/home/till/miniconda3/envs/heatmap/lib/python3.9/site-packages/torch/cuda/__init__.py:146: UserWarning: \n",
      "NVIDIA GeForce RTX 3090 with CUDA capability sm_86 is not compatible with the current PyTorch installation.\n",
      "The current PyTorch install supports CUDA capabilities sm_37 sm_50 sm_60 sm_70.\n",
      "If you want to use the NVIDIA GeForce RTX 3090 GPU with PyTorch, please check the instructions at https://pytorch.org/get-started/locally/\n",
      "\n",
      "  warnings.warn(incompatible_device_warn.format(device_name, capability, \" \".join(arch_list), device_name))\n"
     ]
    },
    {
     "data": {
      "text/plain": [
       "upconvGAN(\n",
       "  (G): Sequential(\n",
       "    (defc7): Linear(in_features=4096, out_features=4096, bias=True)\n",
       "    (relu_defc7): LeakyReLU(negative_slope=0.3, inplace=True)\n",
       "    (defc6): Linear(in_features=4096, out_features=4096, bias=True)\n",
       "    (relu_defc6): LeakyReLU(negative_slope=0.3, inplace=True)\n",
       "    (defc5): Linear(in_features=4096, out_features=4096, bias=True)\n",
       "    (relu_defc5): LeakyReLU(negative_slope=0.3, inplace=True)\n",
       "    (reshape): View()\n",
       "    (deconv5): ConvTranspose2d(256, 256, kernel_size=(4, 4), stride=(2, 2), padding=(1, 1))\n",
       "    (relu_deconv5): LeakyReLU(negative_slope=0.3, inplace=True)\n",
       "    (conv5_1): ConvTranspose2d(256, 512, kernel_size=(3, 3), stride=(1, 1), padding=(1, 1))\n",
       "    (relu_conv5_1): LeakyReLU(negative_slope=0.3, inplace=True)\n",
       "    (deconv4): ConvTranspose2d(512, 256, kernel_size=(4, 4), stride=(2, 2), padding=(1, 1))\n",
       "    (relu_deconv4): LeakyReLU(negative_slope=0.3, inplace=True)\n",
       "    (conv4_1): ConvTranspose2d(256, 256, kernel_size=(3, 3), stride=(1, 1), padding=(1, 1))\n",
       "    (relu_conv4_1): LeakyReLU(negative_slope=0.3, inplace=True)\n",
       "    (deconv3): ConvTranspose2d(256, 128, kernel_size=(4, 4), stride=(2, 2), padding=(1, 1))\n",
       "    (relu_deconv3): LeakyReLU(negative_slope=0.3, inplace=True)\n",
       "    (conv3_1): ConvTranspose2d(128, 128, kernel_size=(3, 3), stride=(1, 1), padding=(1, 1))\n",
       "    (relu_conv3_1): LeakyReLU(negative_slope=0.3, inplace=True)\n",
       "    (deconv2): ConvTranspose2d(128, 64, kernel_size=(4, 4), stride=(2, 2), padding=(1, 1))\n",
       "    (relu_deconv2): LeakyReLU(negative_slope=0.3, inplace=True)\n",
       "    (deconv1): ConvTranspose2d(64, 32, kernel_size=(4, 4), stride=(2, 2), padding=(1, 1))\n",
       "    (relu_deconv1): LeakyReLU(negative_slope=0.3, inplace=True)\n",
       "    (deconv0): ConvTranspose2d(32, 3, kernel_size=(4, 4), stride=(2, 2), padding=(1, 1))\n",
       "  )\n",
       ")"
      ]
     },
     "execution_count": 4,
     "metadata": {},
     "output_type": "execute_result"
    }
   ],
   "source": [
    "G = upconvGAN(\"fc6\")\n",
    "G.eval().cuda()\n",
    "G.requires_grad_(False)"
   ]
  },
  {
   "cell_type": "code",
   "execution_count": null,
   "metadata": {},
   "outputs": [],
   "source": []
  }
 ],
 "metadata": {
  "kernelspec": {
   "display_name": "Python 3.9.12 ('heatmap')",
   "language": "python",
   "name": "python3"
  },
  "language_info": {
   "codemirror_mode": {
    "name": "ipython",
    "version": 3
   },
   "file_extension": ".py",
   "mimetype": "text/x-python",
   "name": "python",
   "nbconvert_exporter": "python",
   "pygments_lexer": "ipython3",
   "version": "3.9.12"
  },
  "orig_nbformat": 4,
  "vscode": {
   "interpreter": {
    "hash": "e534098f0ce286c80fa6dd92622534b6a24a45a9e055a3c1978fdb26fbffc361"
   }
  }
 },
 "nbformat": 4,
 "nbformat_minor": 2
}
